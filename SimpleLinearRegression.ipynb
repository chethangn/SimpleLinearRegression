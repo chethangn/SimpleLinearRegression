{
 "cells": [
  {
   "cell_type": "code",
   "execution_count": 3,
   "metadata": {},
   "outputs": [
    {
     "name": "stdout",
     "output_type": "stream",
     "text": [
      "Estimated coefficients:\n",
      "b_0 = -7.5 \n",
      "b_1 = 137.727272727\n"
     ]
    },
    {
     "data": {
      "image/png": "[encoded data removed]",
      "text/plain": [
       "<Figure size 432x288 with 1 Axes>"
      ]
     },
     "metadata": {},
     "output_type": "display_data"
    }
   ],
   "source": [
    "import numpy as np \n",
    "import matplotlib.pyplot as plt\n",
    "\n",
    "def estimate_coefficients(x, y): \n",
    "    # size of the dataset OR number of observations/points \n",
    "    n = np.size(x) \n",
    "  \n",
    "    # mean of x and y\n",
    "    # Since we are using numpy just calling mean on numpy is sufficient \n",
    "    mean_x, mean_y = np.mean(x), np.mean(y) \n",
    "  \n",
    "    # calculating cross-deviation and deviation about x \n",
    "    SS_xy = np.sum(y*x - n*mean_y*mean_x) \n",
    "    SS_xx = np.sum(x*x - n*mean_x*mean_x) \n",
    "  \n",
    "    # calculating regression coefficients \n",
    "    b_1 = SS_xy / SS_xx \n",
    "    b_0 = mean_y - b_1*mean_x \n",
    "  \n",
    "    return(b_0, b_1)\n",
    "\n",
    "    # x,y are the location of points on graph\n",
    "    # color of the points change it to red blue orange play around\n",
    "\n",
    "\n",
    "\n",
    "def plot_regression_line(x, y, b): \n",
    "    # plotting the points as per dataset on a graph\n",
    "    plt.scatter(x, y, color = \"m\",marker = \"o\", s = 30) \n",
    "\n",
    "    # predicted response vector \n",
    "    y_pred = b[0] + b[1]*x \n",
    "  \n",
    "    # plotting the regression line\n",
    "    plt.plot(x, y_pred, color = \"g\")\n",
    "  \n",
    "    # putting labels for x and y axis\n",
    "    plt.xlabel('Size') \n",
    "    plt.ylabel('Cost') \n",
    "  \n",
    "    # function to show plotted graph\n",
    "    plt.show()\n",
    "    \n",
    "\n",
    "    \n",
    "\n",
    "\n",
    "def main(): \n",
    "    # Datasets which we create \n",
    "    x = np.array([ 17,   29,   34,   46,   58,   66,   79,   89,    95,   113]) \n",
    "    y = np.array([50, 150, 240, 380, 440, 570, 690, 770, 890, 950]) \n",
    "  \n",
    "    # estimating coefficients \n",
    "    b = estimate_coefficients(x, y) \n",
    "    print(\"Estimated coefficients:\\nb_0 = {} \\nb_1 = {}\".format(b[0], b[1])) \n",
    "  \n",
    "    # plotting regression line \n",
    "    plot_regression_line(x, y, b)\n",
    "\n",
    "    \n",
    "if __name__ == \"__main__\": \n",
    "    main()"
   ]
  },
  {
   "cell_type": "code",
   "execution_count": null,
   "metadata": {},
   "outputs": [],
   "source": []
  }
 ],
 "metadata": {
  "kernelspec": {
   "display_name": "Python 3",
   "language": "python",
   "name": "python3"
  },
  "language_info": {
   "codemirror_mode": {
    "name": "ipython",
    "version": 2
   },
   "file_extension": ".py",
   "mimetype": "text/x-python",
   "name": "python",
   "nbconvert_exporter": "python",
   "pygments_lexer": "ipython2",
   "version": "2.7.12"
  }
 },
 "nbformat": 4,
 "nbformat_minor": 2
}
